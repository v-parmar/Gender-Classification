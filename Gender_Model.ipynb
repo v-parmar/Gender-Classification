{
 "cells": [
  {
   "cell_type": "code",
   "execution_count": 1,
   "metadata": {},
   "outputs": [],
   "source": [
    "from tensorflow.keras.preprocessing.image import ImageDataGenerator\n",
    "from tensorflow.keras.optimizers import Adam\n",
    "from tensorflow.keras.preprocessing.image import img_to_array\n",
    "from tensorflow.keras.utils import to_categorical, plot_model\n",
    "from tensorflow.keras.models import Sequential\n",
    "from tensorflow.keras.layers import BatchNormalization, Conv2D, MaxPooling2D, Activation, Flatten, Dropout, Dense\n",
    "from tensorflow.keras import backend as K\n",
    "from sklearn.model_selection import train_test_split\n",
    "import matplotlib.pyplot as plt\n",
    "import numpy as np\n",
    "import random\n",
    "import cv2\n",
    "import os\n",
    "import glob"
   ]
  },
  {
   "cell_type": "code",
   "execution_count": 2,
   "metadata": {},
   "outputs": [],
   "source": [
    "epochs = 100\n",
    "lr = 1e-3\n",
    "batch_size = 64\n",
    "img_dims = (96,96,3)\n",
    "\n",
    "data = []\n",
    "labels = []"
   ]
  },
  {
   "cell_type": "code",
   "execution_count": 3,
   "metadata": {},
   "outputs": [],
   "source": [
    "image_files = [f for f in glob.glob(r'.\\gender_dataset_face' + \"/**/*\", recursive=True) if not os.path.isdir(f)]\n",
    "random.shuffle(image_files)"
   ]
  },
  {
   "cell_type": "code",
   "execution_count": 4,
   "metadata": {},
   "outputs": [],
   "source": [
    "for img in image_files:\n",
    "\n",
    "    image = cv2.imread(img)\n",
    "    \n",
    "    image = cv2.resize(image, (img_dims[0],img_dims[1]))\n",
    "    image = img_to_array(image)\n",
    "    data.append(image)\n",
    "\n",
    "    label = img.split(os.path.sep)[-2] \n",
    "    if label == \"woman\":\n",
    "        label = 1\n",
    "    else:\n",
    "        label = 0\n",
    "        \n",
    "    labels.append([label])"
   ]
  },
  {
   "cell_type": "code",
   "execution_count": 5,
   "metadata": {},
   "outputs": [],
   "source": [
    "data = np.array(data, dtype=\"float\") / 255.0\n",
    "labels = np.array(labels)"
   ]
  },
  {
   "cell_type": "code",
   "execution_count": 6,
   "metadata": {},
   "outputs": [],
   "source": [
    "(trainX, testX, trainY, testY) = train_test_split(data, labels, test_size=0.2,\n",
    "                                                  random_state=42)"
   ]
  },
  {
   "cell_type": "code",
   "execution_count": 7,
   "metadata": {},
   "outputs": [],
   "source": [
    "trainY = to_categorical(trainY, num_classes=2) \n",
    "testY = to_categorical(testY, num_classes=2)"
   ]
  },
  {
   "cell_type": "code",
   "execution_count": 8,
   "metadata": {},
   "outputs": [],
   "source": [
    "aug = ImageDataGenerator(rotation_range=25, width_shift_range=0.1,\n",
    "                         height_shift_range=0.1, shear_range=0.2, zoom_range=0.2,\n",
    "                         horizontal_flip=True, fill_mode=\"nearest\")"
   ]
  },
  {
   "cell_type": "code",
   "execution_count": 9,
   "metadata": {},
   "outputs": [],
   "source": [
    "def build(width, height, depth, classes):\n",
    "    model = Sequential()\n",
    "    inputShape = (height, width, depth)\n",
    "    chanDim = -1\n",
    "\n",
    "    if K.image_data_format() == \"channels_first\": #Returns a string, either 'channels_first' or 'channels_last'\n",
    "        inputShape = (depth, height, width)\n",
    "        chanDim = 1\n",
    "    \n",
    "    # The axis that should be normalized, after a Conv2D layer with data_format=\"channels_first\", \n",
    "    # set axis=1 in BatchNormalization.\n",
    "\n",
    "    model.add(Conv2D(32, (3,3), padding=\"same\", input_shape=inputShape))\n",
    "    model.add(Activation(\"relu\"))\n",
    "    model.add(BatchNormalization(axis=chanDim))\n",
    "    model.add(MaxPooling2D(pool_size=(3,3)))\n",
    "    model.add(Dropout(0.25))\n",
    "\n",
    "    model.add(Conv2D(64, (3,3), padding=\"same\"))\n",
    "    model.add(Activation(\"relu\"))\n",
    "    model.add(BatchNormalization(axis=chanDim))\n",
    "\n",
    "    model.add(Conv2D(64, (3,3), padding=\"same\"))\n",
    "    model.add(Activation(\"relu\"))\n",
    "    model.add(BatchNormalization(axis=chanDim))\n",
    "    model.add(MaxPooling2D(pool_size=(2,2)))\n",
    "    model.add(Dropout(0.25))\n",
    "\n",
    "    model.add(Conv2D(128, (3,3), padding=\"same\"))\n",
    "    model.add(Activation(\"relu\"))\n",
    "    model.add(BatchNormalization(axis=chanDim))\n",
    "\n",
    "    model.add(Conv2D(128, (3,3), padding=\"same\"))\n",
    "    model.add(Activation(\"relu\"))\n",
    "    model.add(BatchNormalization(axis=chanDim))\n",
    "    model.add(MaxPooling2D(pool_size=(2,2)))\n",
    "    model.add(Dropout(0.25))\n",
    "\n",
    "    model.add(Flatten())\n",
    "    model.add(Dense(1024))\n",
    "    model.add(Activation(\"relu\"))\n",
    "    model.add(BatchNormalization())\n",
    "    model.add(Dropout(0.5))\n",
    "\n",
    "    model.add(Dense(classes))\n",
    "    model.add(Activation(\"sigmoid\"))\n",
    "\n",
    "    return model"
   ]
  },
  {
   "cell_type": "code",
   "execution_count": 10,
   "metadata": {},
   "outputs": [],
   "source": [
    "model = build(width=img_dims[0], height=img_dims[1], depth=img_dims[2],\n",
    "                            classes=2)"
   ]
  },
  {
   "cell_type": "code",
   "execution_count": 11,
   "metadata": {},
   "outputs": [
    {
     "name": "stderr",
     "output_type": "stream",
     "text": [
      "c:\\Python\\lib\\site-packages\\keras\\optimizers\\optimizer_v2\\adam.py:110: UserWarning: The `lr` argument is deprecated, use `learning_rate` instead.\n",
      "  super(Adam, self).__init__(name, **kwargs)\n"
     ]
    }
   ],
   "source": [
    "opt = Adam(lr=lr, decay=lr/epochs)\n",
    "model.compile(loss=\"binary_crossentropy\", optimizer=opt, metrics=[\"accuracy\"])"
   ]
  },
  {
   "cell_type": "code",
   "execution_count": 12,
   "metadata": {},
   "outputs": [
    {
     "name": "stderr",
     "output_type": "stream",
     "text": [
      "C:\\Users\\Vishal Parmar\\AppData\\Local\\Temp\\ipykernel_11804\\301311908.py:1: UserWarning: `Model.fit_generator` is deprecated and will be removed in a future version. Please use `Model.fit`, which supports generators.\n",
      "  H = model.fit_generator(aug.flow(trainX, trainY, batch_size=batch_size),\n"
     ]
    },
    {
     "name": "stdout",
     "output_type": "stream",
     "text": [
      "Epoch 1/100\n",
      "28/28 [==============================] - 34s 1s/step - loss: 0.8508 - accuracy: 0.6974 - val_loss: 0.8293 - val_accuracy: 0.5519\n",
      "Epoch 2/100\n",
      "28/28 [==============================] - 33s 1s/step - loss: 0.5179 - accuracy: 0.8007 - val_loss: 0.9133 - val_accuracy: 0.6580\n",
      "Epoch 3/100\n",
      "28/28 [==============================] - 33s 1s/step - loss: 0.4212 - accuracy: 0.8360 - val_loss: 0.7461 - val_accuracy: 0.7597\n",
      "Epoch 4/100\n",
      "28/28 [==============================] - 32s 1s/step - loss: 0.3736 - accuracy: 0.8478 - val_loss: 0.7067 - val_accuracy: 0.5108\n",
      "Epoch 5/100\n",
      "28/28 [==============================] - 32s 1s/step - loss: 0.3694 - accuracy: 0.8591 - val_loss: 0.7223 - val_accuracy: 0.5823\n",
      "Epoch 6/100\n",
      "28/28 [==============================] - 31s 1s/step - loss: 0.3150 - accuracy: 0.8838 - val_loss: 0.8594 - val_accuracy: 0.7143\n",
      "Epoch 7/100\n",
      "28/28 [==============================] - 36s 1s/step - loss: 0.2954 - accuracy: 0.8933 - val_loss: 1.8865 - val_accuracy: 0.7944\n",
      "Epoch 8/100\n",
      "28/28 [==============================] - 35s 1s/step - loss: 0.2626 - accuracy: 0.8944 - val_loss: 0.4588 - val_accuracy: 0.8766\n",
      "Epoch 9/100\n",
      "28/28 [==============================] - 31s 1s/step - loss: 0.2468 - accuracy: 0.9023 - val_loss: 0.5971 - val_accuracy: 0.6190\n",
      "Epoch 10/100\n",
      "28/28 [==============================] - 30s 1s/step - loss: 0.2080 - accuracy: 0.9220 - val_loss: 0.6659 - val_accuracy: 0.6126\n",
      "Epoch 11/100\n",
      "28/28 [==============================] - 30s 1s/step - loss: 0.2249 - accuracy: 0.9147 - val_loss: 0.3830 - val_accuracy: 0.8333\n",
      "Epoch 12/100\n",
      "28/28 [==============================] - 30s 1s/step - loss: 0.2207 - accuracy: 0.8989 - val_loss: 0.4747 - val_accuracy: 0.7468\n",
      "Epoch 13/100\n",
      "28/28 [==============================] - 33s 1s/step - loss: 0.2000 - accuracy: 0.9214 - val_loss: 0.3333 - val_accuracy: 0.8571\n",
      "Epoch 14/100\n",
      "28/28 [==============================] - 33s 1s/step - loss: 0.2126 - accuracy: 0.9175 - val_loss: 0.6512 - val_accuracy: 0.7251\n",
      "Epoch 15/100\n",
      "28/28 [==============================] - 34s 1s/step - loss: 0.1640 - accuracy: 0.9349 - val_loss: 0.2201 - val_accuracy: 0.9091\n",
      "Epoch 16/100\n",
      "28/28 [==============================] - 34s 1s/step - loss: 0.1615 - accuracy: 0.9366 - val_loss: 0.2349 - val_accuracy: 0.8961\n",
      "Epoch 17/100\n",
      "28/28 [==============================] - 32s 1s/step - loss: 0.1447 - accuracy: 0.9523 - val_loss: 0.2995 - val_accuracy: 0.8918\n",
      "Epoch 18/100\n",
      "28/28 [==============================] - 34s 1s/step - loss: 0.1420 - accuracy: 0.9439 - val_loss: 0.1135 - val_accuracy: 0.9567\n",
      "Epoch 19/100\n",
      "28/28 [==============================] - 35s 1s/step - loss: 0.1445 - accuracy: 0.9450 - val_loss: 0.2234 - val_accuracy: 0.9264\n",
      "Epoch 20/100\n",
      "28/28 [==============================] - 36s 1s/step - loss: 0.1395 - accuracy: 0.9495 - val_loss: 0.0797 - val_accuracy: 0.9654\n",
      "Epoch 21/100\n",
      "28/28 [==============================] - 34s 1s/step - loss: 0.1307 - accuracy: 0.9534 - val_loss: 0.0848 - val_accuracy: 0.9675\n",
      "Epoch 22/100\n",
      "28/28 [==============================] - 32s 1s/step - loss: 0.1020 - accuracy: 0.9596 - val_loss: 0.1953 - val_accuracy: 0.9459\n",
      "Epoch 23/100\n",
      "28/28 [==============================] - 36s 1s/step - loss: 0.1254 - accuracy: 0.9523 - val_loss: 0.7871 - val_accuracy: 0.7597\n",
      "Epoch 24/100\n",
      "28/28 [==============================] - 33s 1s/step - loss: 0.1103 - accuracy: 0.9596 - val_loss: 0.1616 - val_accuracy: 0.9459\n",
      "Epoch 25/100\n",
      "28/28 [==============================] - 34s 1s/step - loss: 0.1122 - accuracy: 0.9556 - val_loss: 0.2822 - val_accuracy: 0.8983\n",
      "Epoch 26/100\n",
      "28/28 [==============================] - 32s 1s/step - loss: 0.1167 - accuracy: 0.9613 - val_loss: 0.0959 - val_accuracy: 0.9654\n",
      "Epoch 27/100\n",
      "28/28 [==============================] - 32s 1s/step - loss: 0.0838 - accuracy: 0.9680 - val_loss: 0.1056 - val_accuracy: 0.9610\n",
      "Epoch 28/100\n",
      "28/28 [==============================] - 37s 1s/step - loss: 0.1116 - accuracy: 0.9601 - val_loss: 0.1499 - val_accuracy: 0.9567\n",
      "Epoch 29/100\n",
      "28/28 [==============================] - 36s 1s/step - loss: 0.0963 - accuracy: 0.9607 - val_loss: 0.1260 - val_accuracy: 0.9675\n",
      "Epoch 30/100\n",
      "28/28 [==============================] - 33s 1s/step - loss: 0.1047 - accuracy: 0.9624 - val_loss: 0.2395 - val_accuracy: 0.9329\n",
      "Epoch 31/100\n",
      "28/28 [==============================] - 32s 1s/step - loss: 0.0942 - accuracy: 0.9674 - val_loss: 0.1680 - val_accuracy: 0.9524\n",
      "Epoch 32/100\n",
      "28/28 [==============================] - 35s 1s/step - loss: 0.0860 - accuracy: 0.9669 - val_loss: 0.0683 - val_accuracy: 0.9762\n",
      "Epoch 33/100\n",
      "28/28 [==============================] - 36s 1s/step - loss: 0.0827 - accuracy: 0.9691 - val_loss: 0.0771 - val_accuracy: 0.9740\n",
      "Epoch 34/100\n",
      "28/28 [==============================] - 36s 1s/step - loss: 0.1045 - accuracy: 0.9596 - val_loss: 0.1427 - val_accuracy: 0.9416\n",
      "Epoch 35/100\n",
      "28/28 [==============================] - 34s 1s/step - loss: 0.0812 - accuracy: 0.9719 - val_loss: 0.1267 - val_accuracy: 0.9632\n",
      "Epoch 36/100\n",
      "28/28 [==============================] - 33s 1s/step - loss: 0.0834 - accuracy: 0.9669 - val_loss: 0.2171 - val_accuracy: 0.9329\n",
      "Epoch 37/100\n",
      "28/28 [==============================] - 35s 1s/step - loss: 0.0749 - accuracy: 0.9714 - val_loss: 0.1062 - val_accuracy: 0.9654\n",
      "Epoch 38/100\n",
      "28/28 [==============================] - 33s 1s/step - loss: 0.0786 - accuracy: 0.9699 - val_loss: 0.1495 - val_accuracy: 0.9610\n",
      "Epoch 39/100\n",
      "28/28 [==============================] - 34s 1s/step - loss: 0.0588 - accuracy: 0.9747 - val_loss: 0.0905 - val_accuracy: 0.9805\n",
      "Epoch 40/100\n",
      "28/28 [==============================] - 35s 1s/step - loss: 0.0830 - accuracy: 0.9674 - val_loss: 0.3888 - val_accuracy: 0.8939\n",
      "Epoch 41/100\n",
      "28/28 [==============================] - 34s 1s/step - loss: 0.0833 - accuracy: 0.9697 - val_loss: 0.1186 - val_accuracy: 0.9589\n",
      "Epoch 42/100\n",
      "28/28 [==============================] - 29s 1s/step - loss: 0.0796 - accuracy: 0.9674 - val_loss: 0.1480 - val_accuracy: 0.9481\n",
      "Epoch 43/100\n",
      "28/28 [==============================] - 29s 1s/step - loss: 0.0521 - accuracy: 0.9770 - val_loss: 0.0864 - val_accuracy: 0.9654\n",
      "Epoch 44/100\n",
      "28/28 [==============================] - 29s 1s/step - loss: 0.0545 - accuracy: 0.9809 - val_loss: 0.1162 - val_accuracy: 0.9632\n",
      "Epoch 45/100\n",
      "28/28 [==============================] - 29s 1s/step - loss: 0.0853 - accuracy: 0.9669 - val_loss: 0.6624 - val_accuracy: 0.8290\n",
      "Epoch 46/100\n",
      "28/28 [==============================] - 32s 1s/step - loss: 0.0676 - accuracy: 0.9708 - val_loss: 0.1090 - val_accuracy: 0.9632\n",
      "Epoch 47/100\n",
      "28/28 [==============================] - 32s 1s/step - loss: 0.0691 - accuracy: 0.9742 - val_loss: 0.1678 - val_accuracy: 0.9589\n",
      "Epoch 48/100\n",
      "28/28 [==============================] - 32s 1s/step - loss: 0.0734 - accuracy: 0.9742 - val_loss: 0.2735 - val_accuracy: 0.9589\n",
      "Epoch 49/100\n",
      "28/28 [==============================] - 32s 1s/step - loss: 0.0910 - accuracy: 0.9663 - val_loss: 0.1000 - val_accuracy: 0.9784\n",
      "Epoch 50/100\n",
      "28/28 [==============================] - 34s 1s/step - loss: 0.0860 - accuracy: 0.9725 - val_loss: 0.1310 - val_accuracy: 0.9675\n",
      "Epoch 51/100\n",
      "28/28 [==============================] - 32s 1s/step - loss: 0.0806 - accuracy: 0.9730 - val_loss: 0.6288 - val_accuracy: 0.8506\n",
      "Epoch 52/100\n",
      "28/28 [==============================] - 31s 1s/step - loss: 0.0710 - accuracy: 0.9697 - val_loss: 0.9064 - val_accuracy: 0.8139\n",
      "Epoch 53/100\n",
      "28/28 [==============================] - 31s 1s/step - loss: 0.0847 - accuracy: 0.9646 - val_loss: 0.0600 - val_accuracy: 0.9784\n",
      "Epoch 54/100\n",
      "28/28 [==============================] - 31s 1s/step - loss: 0.0959 - accuracy: 0.9618 - val_loss: 0.1833 - val_accuracy: 0.9416\n",
      "Epoch 55/100\n",
      "28/28 [==============================] - 31s 1s/step - loss: 0.0857 - accuracy: 0.9669 - val_loss: 0.1002 - val_accuracy: 0.9762\n",
      "Epoch 56/100\n",
      "28/28 [==============================] - 31s 1s/step - loss: 0.0706 - accuracy: 0.9725 - val_loss: 0.1306 - val_accuracy: 0.9567\n",
      "Epoch 57/100\n",
      "28/28 [==============================] - 31s 1s/step - loss: 0.0781 - accuracy: 0.9725 - val_loss: 0.1256 - val_accuracy: 0.9524\n",
      "Epoch 58/100\n",
      "28/28 [==============================] - 31s 1s/step - loss: 0.0680 - accuracy: 0.9714 - val_loss: 0.1379 - val_accuracy: 0.9610\n",
      "Epoch 59/100\n",
      "28/28 [==============================] - 31s 1s/step - loss: 0.0603 - accuracy: 0.9787 - val_loss: 0.1091 - val_accuracy: 0.9654\n",
      "Epoch 60/100\n",
      "28/28 [==============================] - 31s 1s/step - loss: 0.0723 - accuracy: 0.9770 - val_loss: 0.2902 - val_accuracy: 0.9026\n",
      "Epoch 61/100\n",
      "28/28 [==============================] - 31s 1s/step - loss: 0.0561 - accuracy: 0.9803 - val_loss: 0.1522 - val_accuracy: 0.9481\n",
      "Epoch 62/100\n",
      "28/28 [==============================] - 31s 1s/step - loss: 0.0662 - accuracy: 0.9747 - val_loss: 0.0915 - val_accuracy: 0.9784\n",
      "Epoch 63/100\n",
      "28/28 [==============================] - 33s 1s/step - loss: 0.0544 - accuracy: 0.9787 - val_loss: 0.0870 - val_accuracy: 0.9719\n",
      "Epoch 64/100\n",
      "28/28 [==============================] - 32s 1s/step - loss: 0.0690 - accuracy: 0.9736 - val_loss: 0.1781 - val_accuracy: 0.9545\n",
      "Epoch 65/100\n",
      "28/28 [==============================] - 32s 1s/step - loss: 0.0697 - accuracy: 0.9764 - val_loss: 0.2233 - val_accuracy: 0.9177\n",
      "Epoch 66/100\n",
      "28/28 [==============================] - 31s 1s/step - loss: 0.0712 - accuracy: 0.9770 - val_loss: 0.1022 - val_accuracy: 0.9762\n",
      "Epoch 67/100\n",
      "28/28 [==============================] - 31s 1s/step - loss: 0.0463 - accuracy: 0.9848 - val_loss: 0.1588 - val_accuracy: 0.9524\n",
      "Epoch 68/100\n",
      "28/28 [==============================] - 33s 1s/step - loss: 0.0703 - accuracy: 0.9742 - val_loss: 0.3744 - val_accuracy: 0.9351\n",
      "Epoch 69/100\n",
      "28/28 [==============================] - 33s 1s/step - loss: 0.0584 - accuracy: 0.9764 - val_loss: 0.4192 - val_accuracy: 0.9048\n",
      "Epoch 70/100\n",
      "28/28 [==============================] - 32s 1s/step - loss: 0.0731 - accuracy: 0.9697 - val_loss: 0.7132 - val_accuracy: 0.8247\n",
      "Epoch 71/100\n",
      "28/28 [==============================] - 32s 1s/step - loss: 0.0630 - accuracy: 0.9787 - val_loss: 0.1923 - val_accuracy: 0.9372\n",
      "Epoch 72/100\n",
      "28/28 [==============================] - 32s 1s/step - loss: 0.0571 - accuracy: 0.9775 - val_loss: 0.2196 - val_accuracy: 0.9221\n",
      "Epoch 73/100\n",
      "28/28 [==============================] - 32s 1s/step - loss: 0.0483 - accuracy: 0.9803 - val_loss: 0.0790 - val_accuracy: 0.9740\n",
      "Epoch 74/100\n",
      "28/28 [==============================] - 34s 1s/step - loss: 0.0634 - accuracy: 0.9747 - val_loss: 0.2169 - val_accuracy: 0.9437\n",
      "Epoch 75/100\n",
      "28/28 [==============================] - 36s 1s/step - loss: 0.0616 - accuracy: 0.9787 - val_loss: 0.2662 - val_accuracy: 0.9242\n",
      "Epoch 76/100\n",
      "28/28 [==============================] - 30s 1s/step - loss: 0.0444 - accuracy: 0.9854 - val_loss: 0.1437 - val_accuracy: 0.9567\n",
      "Epoch 77/100\n",
      "28/28 [==============================] - 29s 1s/step - loss: 0.0414 - accuracy: 0.9826 - val_loss: 0.0834 - val_accuracy: 0.9805\n",
      "Epoch 78/100\n",
      "28/28 [==============================] - 31s 1s/step - loss: 0.0508 - accuracy: 0.9781 - val_loss: 0.2359 - val_accuracy: 0.9481\n",
      "Epoch 79/100\n",
      "28/28 [==============================] - 31s 1s/step - loss: 0.0366 - accuracy: 0.9849 - val_loss: 0.2778 - val_accuracy: 0.9242\n",
      "Epoch 80/100\n",
      "28/28 [==============================] - 31s 1s/step - loss: 0.0486 - accuracy: 0.9815 - val_loss: 0.0765 - val_accuracy: 0.9762\n",
      "Epoch 81/100\n",
      "28/28 [==============================] - 31s 1s/step - loss: 0.0530 - accuracy: 0.9792 - val_loss: 0.1145 - val_accuracy: 0.9654\n",
      "Epoch 82/100\n",
      "28/28 [==============================] - 31s 1s/step - loss: 0.0493 - accuracy: 0.9770 - val_loss: 0.1119 - val_accuracy: 0.9632\n",
      "Epoch 83/100\n",
      "28/28 [==============================] - 31s 1s/step - loss: 0.0514 - accuracy: 0.9792 - val_loss: 0.1192 - val_accuracy: 0.9762\n",
      "Epoch 84/100\n",
      "28/28 [==============================] - 31s 1s/step - loss: 0.0453 - accuracy: 0.9820 - val_loss: 0.0776 - val_accuracy: 0.9740\n",
      "Epoch 85/100\n",
      "28/28 [==============================] - 31s 1s/step - loss: 0.0377 - accuracy: 0.9871 - val_loss: 0.2007 - val_accuracy: 0.9545\n",
      "Epoch 86/100\n",
      "28/28 [==============================] - 31s 1s/step - loss: 0.0414 - accuracy: 0.9848 - val_loss: 0.1298 - val_accuracy: 0.9719\n",
      "Epoch 87/100\n",
      "28/28 [==============================] - 31s 1s/step - loss: 0.0315 - accuracy: 0.9905 - val_loss: 0.1434 - val_accuracy: 0.9697\n",
      "Epoch 88/100\n",
      "28/28 [==============================] - 31s 1s/step - loss: 0.0478 - accuracy: 0.9820 - val_loss: 0.3464 - val_accuracy: 0.8918\n",
      "Epoch 89/100\n",
      "28/28 [==============================] - 31s 1s/step - loss: 0.0495 - accuracy: 0.9843 - val_loss: 0.1077 - val_accuracy: 0.9632\n",
      "Epoch 90/100\n",
      "28/28 [==============================] - 31s 1s/step - loss: 0.0358 - accuracy: 0.9865 - val_loss: 0.2477 - val_accuracy: 0.9481\n",
      "Epoch 91/100\n",
      "28/28 [==============================] - 31s 1s/step - loss: 0.0536 - accuracy: 0.9848 - val_loss: 0.0351 - val_accuracy: 0.9870\n",
      "Epoch 92/100\n",
      "28/28 [==============================] - 31s 1s/step - loss: 0.0416 - accuracy: 0.9860 - val_loss: 0.1012 - val_accuracy: 0.9675\n",
      "Epoch 93/100\n",
      "28/28 [==============================] - 31s 1s/step - loss: 0.0314 - accuracy: 0.9899 - val_loss: 0.1448 - val_accuracy: 0.9545\n",
      "Epoch 94/100\n",
      "28/28 [==============================] - 30s 1s/step - loss: 0.0315 - accuracy: 0.9882 - val_loss: 0.3909 - val_accuracy: 0.8918\n",
      "Epoch 95/100\n",
      "28/28 [==============================] - 31s 1s/step - loss: 0.0624 - accuracy: 0.9781 - val_loss: 0.2267 - val_accuracy: 0.9004\n",
      "Epoch 96/100\n",
      "28/28 [==============================] - 31s 1s/step - loss: 0.0653 - accuracy: 0.9815 - val_loss: 0.1775 - val_accuracy: 0.9351\n",
      "Epoch 97/100\n",
      "28/28 [==============================] - 31s 1s/step - loss: 0.0608 - accuracy: 0.9826 - val_loss: 0.6743 - val_accuracy: 0.8030\n",
      "Epoch 98/100\n",
      "28/28 [==============================] - 31s 1s/step - loss: 0.0472 - accuracy: 0.9848 - val_loss: 0.2009 - val_accuracy: 0.9545\n",
      "Epoch 99/100\n",
      "28/28 [==============================] - 31s 1s/step - loss: 0.0512 - accuracy: 0.9770 - val_loss: 0.2505 - val_accuracy: 0.9351\n",
      "Epoch 100/100\n",
      "28/28 [==============================] - 31s 1s/step - loss: 0.0455 - accuracy: 0.9787 - val_loss: 0.1758 - val_accuracy: 0.9394\n"
     ]
    }
   ],
   "source": [
    "H = model.fit_generator(aug.flow(trainX, trainY, batch_size=batch_size),\n",
    "                        validation_data=(testX,testY),\n",
    "                        steps_per_epoch=len(trainX) // batch_size,\n",
    "                        epochs=epochs, verbose=1)"
   ]
  },
  {
   "cell_type": "code",
   "execution_count": 13,
   "metadata": {},
   "outputs": [
    {
     "name": "stderr",
     "output_type": "stream",
     "text": [
      "WARNING:absl:Found untraced functions such as _jit_compiled_convolution_op, _jit_compiled_convolution_op, _jit_compiled_convolution_op, _jit_compiled_convolution_op, _jit_compiled_convolution_op while saving (showing 5 of 5). These functions will not be directly callable after loading.\n"
     ]
    },
    {
     "name": "stdout",
     "output_type": "stream",
     "text": [
      "INFO:tensorflow:Assets written to: gender_detection.model\\assets\n"
     ]
    },
    {
     "name": "stderr",
     "output_type": "stream",
     "text": [
      "INFO:tensorflow:Assets written to: gender_detection.model\\assets\n"
     ]
    }
   ],
   "source": [
    "model.save('gender_detection.model')"
   ]
  },
  {
   "cell_type": "code",
   "execution_count": 15,
   "metadata": {},
   "outputs": [
    {
     "data": {
      "text/plain": [
       "<matplotlib.legend.Legend at 0x267de78f160>"
      ]
     },
     "execution_count": 15,
     "metadata": {},
     "output_type": "execute_result"
    },
    {
     "data": {
      "image/png": "[encoded data removed]",
      "text/plain": [
       "<Figure size 432x288 with 1 Axes>"
      ]
     },
     "metadata": {},
     "output_type": "display_data"
    }
   ],
   "source": [
    "plt.style.use(\"ggplot\")\n",
    "plt.figure()\n",
    "N = epochs\n",
    "plt.plot(np.arange(0,N), H.history[\"loss\"], label=\"train_loss\")\n",
    "plt.plot(np.arange(0,N), H.history[\"val_loss\"], label=\"val_loss\")\n",
    "plt.plot(np.arange(0,N), H.history[\"accuracy\"], label=\"train_acc\")\n",
    "plt.plot(np.arange(0,N), H.history[\"val_accuracy\"], label=\"val_acc\")\n",
    "\n",
    "plt.title(\"Training Loss and Accuracy\")\n",
    "plt.xlabel(\"Epoch #\")\n",
    "plt.ylabel(\"Loss/Accuracy\")\n",
    "plt.legend(loc=\"upper right\")"
   ]
  }
 ],
 "metadata": {
  "kernelspec": {
   "display_name": "Python 3.10.5 64-bit",
   "language": "python",
   "name": "python3"
  },
  "language_info": {
   "codemirror_mode": {
    "name": "ipython",
    "version": 3
   },
   "file_extension": ".py",
   "mimetype": "text/x-python",
   "name": "python",
   "nbconvert_exporter": "python",
   "pygments_lexer": "ipython3",
   "version": "3.10.5"
  },
  "orig_nbformat": 4,
  "vscode": {
   "interpreter": {
    "hash": "52634da84371cba311ea128a5ea7cdc41ff074b781779e754b270ff9f8153cee"
   }
  }
 },
 "nbformat": 4,
 "nbformat_minor": 2
}
